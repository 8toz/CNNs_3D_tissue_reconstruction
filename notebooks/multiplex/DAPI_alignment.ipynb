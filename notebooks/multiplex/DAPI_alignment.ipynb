{
 "cells": [
  {
   "cell_type": "code",
   "execution_count": null,
   "metadata": {},
   "outputs": [],
   "source": [
    "import os\n",
    "import glob\n",
    "\n",
    "import numpy as np\n",
    "import matplotlib.pyplot as plt\n",
    "import pandas as pd\n",
    "\n",
    "from tqdm.notebook import tqdm_notebook\n",
    "\n",
    "os.environ[\"OPENCV_IO_MAX_result_PIXELS\"] = pow(2,40).__str__()\n",
    "\n",
    "import cv2\n",
    "\n",
    "from stardist.models import StarDist2D\n",
    "# prints a list of available models\n",
    "StarDist2D.from_pretrained()\n",
    "\n",
    "from stardist.plot import render_label\n",
    "from csbdeep.utils import normalize\n",
    "import matplotlib.pyplot as plt\n"
   ]
  },
  {
   "cell_type": "code",
   "execution_count": null,
   "metadata": {},
   "outputs": [],
   "source": [
    "\n",
    "import glob\n",
    "import cv2\n",
    "import numpy as np\n",
    "from stardist.models import StarDist2D\n",
    "from csbdeep.utils import normalize\n",
    "\n",
    "# Get the list of image paths\n",
    "multiplex_file_paths = glob.glob(\"./data/multiplex/processed_32/*DAPI*.tif\")\n",
    "\n",
    "# Load the pretrained StarDist2D model\n",
    "model = StarDist2D.from_pretrained('2D_versatile_fluo')\n",
    "\n",
    "# Read the image\n",
    "img = cv2.imread(multiplex_file_paths[0], 0)\n",
    "\n",
    "# Apply Gaussian blur\n",
    "blurred_img = cv2.GaussianBlur(img, (5, 5), 0)\n",
    "\n",
    "# # Apply Otsu's thresholding\n",
    "#_, otsu_thresh = cv2.threshold(blurred_img, 0, 255, cv2.THRESH_BINARY + cv2.THRESH_OTSU)\n",
    "\n",
    "# Use the thresholded image for StarDist prediction\n",
    "multiplex_labels, _ = model.predict_instances_big(normalize(blurred_img), axes='YX', block_size=1024, min_overlap=128, context=128, scale=8, n_tiles=(4,4), prob_thresh=0.8)\n"
   ]
  },
  {
   "cell_type": "code",
   "execution_count": null,
   "metadata": {},
   "outputs": [],
   "source": [
    "# Display the labeled image\n",
    "plt.figure(figsize=(20,20))\n",
    "plt.title('Florescent Image Cell count')\n",
    "plt.imshow(multiplex_labels[0:1500, :])\n",
    "plt.show()\n"
   ]
  },
  {
   "cell_type": "code",
   "execution_count": null,
   "metadata": {},
   "outputs": [],
   "source": [
    "from skimage.measure import regionprops_table\n",
    "import pandas as pd\n",
    "\n",
    "props = regionprops_table(multiplex_labels, img, \n",
    "                          properties=['label',\n",
    "                                      'area', 'equivalent_diameter',\n",
    "                                      'mean_intensity', 'solidity'])\n",
    "\n",
    "analysis_results = pd.DataFrame(props)\n",
    "print(analysis_results.tail())"
   ]
  },
  {
   "cell_type": "code",
   "execution_count": null,
   "metadata": {},
   "outputs": [],
   "source": [
    "he_file_path = glob.glob(\"./data/66-4/processed_32/*025*.tif\")\n",
    "he_img = cv2.imread(he_file_path[0])\n",
    "\n",
    "model = StarDist2D.from_pretrained('2D_versatile_he')\n",
    "\n",
    "he_labels, _ = model.predict_instances_big(normalize(he_img), axes='YXC',block_size=1024, min_overlap=128, context=128, scale=8, n_tiles=(4,4,1))\n",
    "\n",
    "plt.figure(figsize=(20, 20))\n",
    "plt.imshow(render_label(he_labels))\n",
    "plt.axis(\"off\")\n",
    "plt.title(\"prediction + input overlay\")"
   ]
  },
  {
   "cell_type": "code",
   "execution_count": null,
   "metadata": {},
   "outputs": [],
   "source": [
    "props = regionprops_table(he_labels, he_img, \n",
    "                          properties=['label',\n",
    "                                      'area', 'equivalent_diameter',\n",
    "                                      'mean_intensity', 'solidity'])\n",
    "\n",
    "analysis_results = pd.DataFrame(props)\n",
    "print(analysis_results.tail())"
   ]
  },
  {
   "cell_type": "code",
   "execution_count": null,
   "metadata": {},
   "outputs": [],
   "source": [
    "fig, (ax1, ax2) = plt.subplots(1,2,figsize=(20,20))\n",
    "\n",
    "ax1.imshow(he_labels)\n",
    "ax1.axis(\"off\")\n",
    "ax1.legend([f'Cell count {len(analysis_results)}'], fontsize=100, loc='upper right')\n",
    "print(he_labels.shape)\n",
    "\n",
    "ax2.imshow(multiplex_labels[0:1575, :])\n",
    "ax2.legend([f'Cell count {len(analysis_results)}'], fontsize=100, loc='upper right')\n",
    "ax2.axis(\"off\")\n",
    "plt.show()"
   ]
  },
  {
   "cell_type": "code",
   "execution_count": null,
   "metadata": {},
   "outputs": [],
   "source": [
    "import numpy as np\n",
    "import matplotlib.pyplot as plt\n",
    "from skimage.transform import resize\n",
    "\n",
    "# Assuming he_img and img are already loaded images\n",
    "# Assuming he_labels and multiplex_labels are already loaded label arrays\n",
    "\n",
    "# Resize the labels to match the dimensions of the images\n",
    "he_labels_resized = resize(np.where(he_labels >= 1, 1, 0), (1000, 1300), anti_aliasing=True)\n",
    "multiplex_labels_resized = resize(np.where(multiplex_labels[0:1575, :] >= 1, 1, 0), (1000, 1300), anti_aliasing=True)\n",
    "\n",
    "# Resize the images to match the dimensions\n",
    "he_img_resized = resize(he_img, (1000, 1300), anti_aliasing=True)\n",
    "img_resized = resize(img[0:1575, :], (1000, 1300), anti_aliasing=True)\n",
    "\n",
    "fig, (ax1, ax2) = plt.subplots(1, 2, figsize=(20, 10))\n",
    "\n",
    "# Plot the resized images with overlaid labels\n",
    "im1 = ax1.imshow(he_img_resized)\n",
    "im1_overlay = ax1.imshow(he_labels_resized, cmap='Reds', alpha=0.7)\n",
    "ax1.axis(\"off\")\n",
    "\n",
    "im2 = ax2.imshow(img_resized)\n",
    "im2_overlay = ax2.imshow(multiplex_labels_resized, cmap='Blues', alpha=0.5)\n",
    "ax2.axis(\"off\")\n",
    "\n",
    "# Annotate text on the first image\n",
    "ax1.annotate('Cell Count: 5040', xy=(0, 0.95), xytext=(20, -20),\n",
    "             xycoords='axes fraction', textcoords='offset points',\n",
    "             bbox=dict(boxstyle='round,pad=0.5', fc='yellow', alpha=0.5),\n",
    "             fontsize=16)  # Set fontsize to 16\n",
    "\n",
    "# Annotate text on the second image\n",
    "ax2.annotate('Cell Count: 4194', xy=(0, 0.95), xytext=(20, -20),\n",
    "             xycoords='axes fraction', textcoords='offset points',\n",
    "             bbox=dict(boxstyle='round,pad=0.5', fc='yellow', alpha=0.5),\n",
    "             fontsize=16)  # Set fontsize to 16\n",
    "\n",
    "plt.tight_layout()\n",
    "plt.show()"
   ]
  },
  {
   "cell_type": "markdown",
   "metadata": {},
   "source": [
    "# H&E cell counting"
   ]
  },
  {
   "cell_type": "code",
   "execution_count": null,
   "metadata": {},
   "outputs": [],
   "source": [
    "he_file_path = glob.glob(\"./data/66-4/processed_4/*025*.tif\")\n",
    "he_img = cv2.imread(he_file_path[0])\n",
    "\n",
    "model = StarDist2D.from_pretrained('2D_versatile_he')"
   ]
  },
  {
   "cell_type": "code",
   "execution_count": null,
   "metadata": {},
   "outputs": [],
   "source": [
    "import numpy as np\n",
    "import matplotlib.pyplot as plt\n",
    "\n",
    "from tifffile import imread, imsave\n",
    "from csbdeep.utils import Path, normalize\n",
    "from csbdeep.utils.tf import keras_import\n",
    "keras = keras_import()\n",
    "\n",
    "from stardist import export_imagej_rois, random_label_cmap\n",
    "from stardist.models import StarDist2D\n",
    "\n",
    "np.random.seed(0)\n",
    "cmap = random_label_cmap()"
   ]
  },
  {
   "cell_type": "code",
   "execution_count": null,
   "metadata": {},
   "outputs": [],
   "source": [
    "def show_image(img, **kwargs):\n",
    "    \"\"\"Plot large image at different resolutions.\"\"\"\n",
    "    fig, ax = plt.subplots(2,4, figsize=(16,8))\n",
    "    mid = [s//2 + 600 for s in img.shape[:2]]\n",
    "    for a,t,u in zip(ax.ravel(),[1,2,4,8,16,32,64,128],[16,8,4,2,1,1,1,1]):\n",
    "        sl = tuple(slice(c - s//t//2, c + s//t//2, u) for s,c in zip(img.shape[:2],mid))\n",
    "        a.imshow(img[sl], **kwargs)\n",
    "        a.axis('off')\n",
    "    plt.tight_layout()\n",
    "    plt.show()"
   ]
  },
  {
   "cell_type": "code",
   "execution_count": null,
   "metadata": {},
   "outputs": [],
   "source": [
    "show_image(he_img)"
   ]
  }
 ],
 "metadata": {
  "kernelspec": {
   "display_name": "msc_thesis",
   "language": "python",
   "name": "python3"
  },
  "language_info": {
   "codemirror_mode": {
    "name": "ipython",
    "version": 3
   },
   "file_extension": ".py",
   "mimetype": "text/x-python",
   "name": "python",
   "nbconvert_exporter": "python",
   "pygments_lexer": "ipython3",
   "version": "3.10.13"
  }
 },
 "nbformat": 4,
 "nbformat_minor": 2
}

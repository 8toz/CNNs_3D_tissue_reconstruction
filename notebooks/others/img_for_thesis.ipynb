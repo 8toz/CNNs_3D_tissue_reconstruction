{
 "cells": [
  {
   "cell_type": "code",
   "execution_count": null,
   "metadata": {},
   "outputs": [],
   "source": [
    "import utils\n",
    "\n",
    "import os\n",
    "import glob\n",
    "\n",
    "import numpy as np\n",
    "import matplotlib.pyplot as plt\n",
    "\n",
    "os.environ[\"OPENCV_IO_MAX_IMAGE_PIXELS\"] = pow(2,40).__str__()\n",
    "\n",
    "import cv2\n",
    "\n",
    "from scipy import ndimage"
   ]
  },
  {
   "cell_type": "code",
   "execution_count": null,
   "metadata": {},
   "outputs": [],
   "source": [
    "def get_avg_height_width(directory):\n",
    "    \"\"\"\n",
    "    Given a directory gets the average height and width of the images\n",
    "    \"\"\"\n",
    "    height_list = []\n",
    "    width_list = []\n",
    "\n",
    "    files = glob.glob(directory)\n",
    "    for file in files:\n",
    "        img = cv2.imread(file)\n",
    "        height_list.append(img.shape[0])\n",
    "        width_list.append(img.shape[1])\n",
    "    print(f\"Average Height {round(sum(height_list)/len(height_list),2)} pixels.\")\n",
    "    print(f\"Average Width {round(sum(height_list)/len(height_list),2)} pixels.\")"
   ]
  },
  {
   "cell_type": "code",
   "execution_count": null,
   "metadata": {},
   "outputs": [],
   "source": [
    "get_avg_height_width(\"./data/processed_labels_32/4_adipocytes/*.png\")"
   ]
  },
  {
   "cell_type": "code",
   "execution_count": null,
   "metadata": {},
   "outputs": [],
   "source": [
    "image = cv2.imread(\"./data/66-4/processed_32/H21-066.4_HE332_001_Scan1.tif\")\n",
    "image_rgb = cv2.cvtColor(image, cv2.COLOR_BGR2RGB)\n",
    "pixels = image_rgb.reshape((-1, 3))\n",
    "num_colors = 6\n",
    "criteria = (cv2.TERM_CRITERIA_EPS + cv2.TERM_CRITERIA_MAX_ITER, 100, 0.2)\n",
    "_, labels, centers = cv2.kmeans(pixels.astype(np.float32), num_colors, None, criteria, 10, cv2.KMEANS_RANDOM_CENTERS)\n",
    "centers = np.uint8(centers)\n",
    "reduced_image = centers[labels.flatten()]\n",
    "palette = centers.reshape(1, -1, 3)\n",
    "palette = cv2.cvtColor(palette, cv2.COLOR_BGR2RGB)\n",
    "rotated_img = ndimage.rotate(palette, 90)\n",
    "reduced_image = reduced_image.reshape(image_rgb.shape)\n"
   ]
  },
  {
   "cell_type": "code",
   "execution_count": null,
   "metadata": {},
   "outputs": [],
   "source": [
    "fig, (ax1, ax2) = plt.subplots(1,2, figsize=(10,5))\n",
    "ax1.imshow(image)\n",
    "ax2.imshow(rotated_img, cmap=plt.cm.gray)\n",
    "plt.title('Color Palette')\n",
    "ax1.axis('off')\n",
    "ax2.axis(\"off\")\n",
    "plt.tight_layout()\n",
    "plt.show()"
   ]
  },
  {
   "cell_type": "code",
   "execution_count": null,
   "metadata": {},
   "outputs": [],
   "source": []
  }
 ],
 "metadata": {
  "kernelspec": {
   "display_name": "msc_thesis",
   "language": "python",
   "name": "python3"
  },
  "language_info": {
   "codemirror_mode": {
    "name": "ipython",
    "version": 3
   },
   "file_extension": ".py",
   "mimetype": "text/x-python",
   "name": "python",
   "nbconvert_exporter": "python",
   "pygments_lexer": "ipython3",
   "version": "3.10.13"
  }
 },
 "nbformat": 4,
 "nbformat_minor": 2
}

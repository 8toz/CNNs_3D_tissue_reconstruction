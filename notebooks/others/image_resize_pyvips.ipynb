{
 "cells": [
  {
   "cell_type": "code",
   "execution_count": null,
   "id": "e190485c",
   "metadata": {},
   "outputs": [],
   "source": [
    "import utils"
   ]
  },
  {
   "cell_type": "code",
   "execution_count": null,
   "id": "af1cc705",
   "metadata": {},
   "outputs": [],
   "source": [
    "#utils.resize_qptiff_files(\"./data/66-4\", \"4\")"
   ]
  },
  {
   "cell_type": "markdown",
   "id": "6bc24967-2859-4276-bd36-f04b4130688e",
   "metadata": {},
   "source": [
    "# Check multiplex Fluorescence format"
   ]
  },
  {
   "cell_type": "markdown",
   "id": "2ffd2276-c4b5-4615-9b30-f67fe1e8f468",
   "metadata": {},
   "source": [
    "The multiplex images contains multiple channels as they display images in piramidal format.\n",
    "- The first 8 images will have the actual channels full resolution.\n",
    "- The next 8 sets will contain piramidal versions of the images that are downsampled versions up to x64."
   ]
  },
  {
   "cell_type": "code",
   "execution_count": null,
   "id": "c21308bd-05c7-4e67-88ad-126e5a25eb45",
   "metadata": {},
   "outputs": [],
   "source": [
    "#img_path = \"./data/first_multiplex/set1/LM015_02_Set1_023_Scan1.qptiff\"\n",
    "#check_qptiff_data(img_path)\n",
    "#img_path = \"./data/66-4/H21-066.4_HE332_001/Scan1/H21-066.4_HE332_001_Scan1.qptiff\"\n",
    "#is_multiplex(img_path)"
   ]
  },
  {
   "cell_type": "code",
   "execution_count": null,
   "id": "03bce5d9",
   "metadata": {},
   "outputs": [],
   "source": [
    "# files = get_qptiff_paths(\"./data/66-4\")\n",
    "\n",
    "# height_list = []\n",
    "# width_list = []\n",
    "# for f in files:\n",
    "#     with TiffFile(f) as tif:\n",
    "#         # Detects original size on the piramidal image\n",
    "#         max_height, max_width = get_max_size(f)\n",
    "#         height_list.append(max_height)\n",
    "#         width_list.append(max_width)\n",
    "\n",
    "# print(sum(height_list)/len(height_list))\n",
    "# print(sum(width_list)/len(width_list))"
   ]
  },
  {
   "cell_type": "code",
   "execution_count": null,
   "id": "1d4f269b-abd6-460d-a1ed-e3f4ece660de",
   "metadata": {},
   "outputs": [],
   "source": [
    "# folder = \"./data/66-4/H21-066.4_HE332_033\"\n",
    "# resize_qptiff_files(folder, \"original\")"
   ]
  },
  {
   "cell_type": "markdown",
   "id": "cea60e3b-1f71-4dc4-bde5-e33ade3154f0",
   "metadata": {},
   "source": [
    "## PLAYING WITH SCALING and PYVIPS NOT USED AT THE MOMENT"
   ]
  },
  {
   "cell_type": "code",
   "execution_count": null,
   "id": "8e105af6-9d24-4788-b529-4123fc3ff1fa",
   "metadata": {},
   "outputs": [],
   "source": [
    "thumb = pyvips.Image.thumbnail(\"./tryout/your_file0.tiff\", 2048)\n",
    "thumb.write_to_file(\"./tryout/thumbnail0.tiff\")"
   ]
  },
  {
   "cell_type": "code",
   "execution_count": null,
   "id": "768be910-e18d-4b0c-9abd-dc78cd80306f",
   "metadata": {},
   "outputs": [],
   "source": [
    "#You can use the more general affine function. An affine transformation does scaling, rotation and translation all at once. \n",
    "# You can parameterize the affine matrix to do 0 rotation and 0 translation.\n",
    "#You first calculate the necessary factors to achieve the target shape\n",
    "\n",
    "height_factor = target_height / img.height\n",
    "width_factor = target_width / img.width\n",
    "\n",
    "img.affine((width_factor, 0, 0, height_factor))"
   ]
  },
  {
   "cell_type": "code",
   "execution_count": null,
   "id": "6835df03-528f-40ae-99f3-ced8d83dae0d",
   "metadata": {},
   "outputs": [],
   "source": [
    "from xml.etree import ElementTree\n",
    "\n",
    "new_path =  \"./data/66-1/H21-066.1_HE331_0001_Scan1.qptiff\"\n",
    "new_path = \"./data/first_multiplex/set1/LM015_02_Set1_023_Scan1.qptiff\"\n",
    "\n",
    "\n",
    "print(get_channel_names(new_path))\n",
    "\n",
    "with TiffFile(new_path) as tif:\n",
    "    for i, page in enumerate(tif.pages):\n",
    "        pages = str(tif.pages[i])\n",
    "        #print(pages)\n",
    "    "
   ]
  },
  {
   "cell_type": "markdown",
   "id": "736478ca-a5ef-4072-801f-bff014e02b61",
   "metadata": {},
   "source": [
    "## OBSOLETE CODE"
   ]
  },
  {
   "cell_type": "code",
   "execution_count": null,
   "id": "9a544629-ddb1-40f5-aff5-6e9224894620",
   "metadata": {},
   "outputs": [],
   "source": [
    "# This function is obsolete\n",
    "# iterates a folder and its subfolders gets the qptiff files and convert them to a predefined size and add them in a processed_images folder\n",
    "def resize_qptiff_files(path, target_size):\n",
    "    create_folder(os.path.join(path, 'processed_images'))\n",
    "    for i, file in tqdm_notebook(enumerate(get_qptiff_paths(path))):\n",
    "        output = 'test' + str(i) + '.tif'\n",
    "        print(i, file)\n",
    "        thumb = pyvips.Image.thumbnail(file, target_size)\n",
    "        # Insert image path and desired size of the resulting image (need to do more research if different than squared is possible)\n",
    "        print(f\"Saving {output} into {os.path.join(path, 'processed_images', output)}\")\n",
    "        thumb.write_to_file(os.path.join(path, 'processed_images', output))\n",
    "\n",
    "# resize_qptiff_files(\"./data/first_multiplex/set1/\", 4096)\n",
    "        "
   ]
  },
  {
   "cell_type": "code",
   "execution_count": null,
   "id": "4ab13c60",
   "metadata": {},
   "outputs": [],
   "source": []
  }
 ],
 "metadata": {
  "kernelspec": {
   "display_name": "Python 3 (ipykernel)",
   "language": "python",
   "name": "python3"
  },
  "language_info": {
   "codemirror_mode": {
    "name": "ipython",
    "version": 3
   },
   "file_extension": ".py",
   "mimetype": "text/x-python",
   "name": "python",
   "nbconvert_exporter": "python",
   "pygments_lexer": "ipython3",
   "version": "3.10.13"
  }
 },
 "nbformat": 4,
 "nbformat_minor": 5
}

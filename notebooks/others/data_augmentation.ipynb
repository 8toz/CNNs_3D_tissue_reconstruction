{
 "cells": [
  {
   "cell_type": "code",
   "execution_count": null,
   "metadata": {},
   "outputs": [],
   "source": [
    "import utils\n",
    "\n",
    "import pandas as pd\n",
    "import numpy as np\n",
    "import matplotlib.pyplot as plt\n",
    "import os\n",
    "import glob\n",
    "import solt\n",
    "import random\n",
    "from solt import transforms as slt\n",
    "\n",
    "os.environ[\"OPENCV_IO_MAX_IMAGE_PIXELS\"] = pow(2,40).__str__()\n",
    "\n",
    "import cv2\n"
   ]
  },
  {
   "cell_type": "code",
   "execution_count": null,
   "metadata": {},
   "outputs": [],
   "source": [
    "def count_pixels(img_path):\n",
    "    img = cv2.imread(img_path, cv2.IMREAD_GRAYSCALE)\n",
    "    pixels = np.sum(np.where(img > 0, 1, 0))\n",
    "    return pixels\n",
    "\n",
    "def check_label_balance(labels_path):\n",
    "    directory_path = \"./data/processed_labels_4\"\n",
    "\n",
    "    labels_dict = {}\n",
    "    count_dict = {}\n",
    "    for dir in os.listdir(directory_path):\n",
    "        count_dict[dir] = 0\n",
    "        files = glob.glob(os.path.join(directory_path, dir, \"*.png\"))\n",
    "        labels_dict[dir] = len(files)\n",
    "        for file_path in files:\n",
    "            count_dict[dir] += count_pixels(file_path)\n",
    "\n",
    "    result = pd.DataFrame(pd.Series(count_dict))\n",
    "    result[\"n_labels\"] = pd.Series(labels_dict)\n",
    "    result[\"relative_percentage\"] = result[0]/result[0].max()\n",
    "    result[\"absolute_percentage\"] = result[0]/result[0].sum()\n",
    "    result.rename(columns={0:\"n_pixels\"}, inplace=True)\n",
    "\n",
    "    return result[[\"n_labels\", \"n_pixels\", \"absolute_percentage\", \"relative_percentage\"]]\n",
    "\n",
    "def random_augmentation(path, p: float) -> None:\n",
    "    \"\"\"\n",
    "\n",
    "    \"\"\"\n",
    "    img = cv2.imread(path)\n",
    "\n",
    "    stream = solt.Stream([\n",
    "        slt.Rotate(angle_range=(-45, 45), p=p, padding='r'),\n",
    "        slt.Flip(axis=1, p=p/2),\n",
    "        slt.Flip(axis=0, p=p/2),\n",
    "        slt.Scale(range_x=(0.8, 1.2), padding='r', range_y=(0.8, 1.2), same=False, p=p),\n",
    "        #slt.Blur(k_size=7, blur_type='m', p=p / 2),\n",
    "    ], ignore_fast_mode=True)\n",
    "\n",
    "    aug_img = stream({\"image\": img}, return_torch=False).data[0].squeeze()\n",
    "    \n",
    "    return aug_img\n",
    "\n",
    "# def augment_labels(directory):\n",
    "#     df_labels = check_label_balance(labels_path=directory)\n",
    "\n",
    "#     max_pixel_goal = df_labels[\"n_pixels\"].max()\n",
    "\n",
    "\n"
   ]
  },
  {
   "cell_type": "code",
   "execution_count": null,
   "metadata": {},
   "outputs": [],
   "source": [
    "directory = \"./data/processed_labels_4\"\n",
    "df_labels = check_label_balance(labels_path=directory)\n",
    "max_pixel_goal = df_labels[\"n_pixels\"].max()\n",
    "\n",
    "for idx, row in df_labels.iterrows():\n",
    "    print(idx)\n",
    "    current_pixels = row[\"n_pixels\"]\n",
    "    counter = 0\n",
    "    while current_pixels < max_pixel_goal:\n",
    "        labels_path = os.path.join(directory, idx)\n",
    "        # select random image from list \n",
    "        random_image = random.choice(os.listdir(labels_path))\n",
    "\n",
    "        augmented_img = random_augmentation(os.path.join(directory, idx, random_image), p=0.5)\n",
    "        \n",
    "        cv2.imwrite(os.path.join(labels_path, \"augmented_\"+str(idx)+\"_\"+str(counter))+\".png\", augmented_img)\n",
    "\n",
    "        # Count pixels\n",
    "        gray_image = cv2.cvtColor(augmented_img, cv2.COLOR_BGR2GRAY)\n",
    "        pixels = np.sum(np.where(gray_image > 0, 1, 0))\n",
    "        \n",
    "        current_pixels += pixels\n",
    "        counter += 1\n"
   ]
  },
  {
   "cell_type": "code",
   "execution_count": null,
   "metadata": {},
   "outputs": [],
   "source": [
    "check_label_balance(labels_path=\"./data/processed_labels_4\")"
   ]
  },
  {
   "cell_type": "code",
   "execution_count": null,
   "metadata": {},
   "outputs": [],
   "source": [
    "random_augmentation(\"./data/processed_labels_4/1_epithelium/H21-066.4_HE332_033_Scan1_epithelium_0.png\", p=0.5)"
   ]
  },
  {
   "cell_type": "code",
   "execution_count": null,
   "metadata": {},
   "outputs": [],
   "source": [
    "\n",
    "img = cv2.imread(\"./data/processed_labels_4/1_epithelium/H21-066.4_HE332_033_Scan1_epithelium_0.png\")\n",
    "p = 0.5\n",
    "\n",
    "stream = solt.Stream([\n",
    "    #slt.Rotate(angle_range=(-45, 45), p=p, padding='r'),\n",
    "    slt.Rotate(angle_range=(-45, 45), p=p),\n",
    "    slt.Flip(axis=1, p=p/2),\n",
    "    slt.Flip(axis=0, p=p/2),\n",
    "    #slt.Scale(range_x=(0.8, 1.2), padding='r', range_y=(0.8, 1.2), same=False, p=p),\n",
    "    slt.Scale(range_x=(0.8, 1.2), range_y=(0.7, 1.2), same=False, p=p),\n",
    "    #slt.Blur(k_size=7, blur_type='m', p=p / 2),\n",
    "], ignore_fast_mode=True)\n",
    "\n",
    "aug_img = stream({\"image\": img}, return_torch=False).data[0]#.squeeze()\n",
    "plt.imshow(aug_img)\n",
    "    \n",
    " "
   ]
  },
  {
   "cell_type": "code",
   "execution_count": null,
   "metadata": {},
   "outputs": [],
   "source": [
    "stream({\"image\": img}, return_torch=False).data[0].shape"
   ]
  },
  {
   "cell_type": "code",
   "execution_count": null,
   "metadata": {},
   "outputs": [],
   "source": []
  }
 ],
 "metadata": {
  "kernelspec": {
   "display_name": "msc_thesis",
   "language": "python",
   "name": "python3"
  },
  "language_info": {
   "codemirror_mode": {
    "name": "ipython",
    "version": 3
   },
   "file_extension": ".py",
   "mimetype": "text/x-python",
   "name": "python",
   "nbconvert_exporter": "python",
   "pygments_lexer": "ipython3",
   "version": "3.10.13"
  }
 },
 "nbformat": 4,
 "nbformat_minor": 2
}

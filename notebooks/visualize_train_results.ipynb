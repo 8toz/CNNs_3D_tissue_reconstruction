{
 "cells": [
  {
   "cell_type": "code",
   "execution_count": null,
   "metadata": {},
   "outputs": [],
   "source": [
    "import utils\n",
    "\n",
    "import glob\n",
    "import os\n",
    "import cv2\n",
    "import pandas as pd\n",
    "import numpy as np\n",
    "import matplotlib.pyplot as plt\n",
    "import seaborn as sns\n",
    "\n",
    "from patchify import patchify, unpatchify\n",
    "from tensorflow.keras.models import load_model\n",
    "from ipywidgets import interact\n"
   ]
  },
  {
   "cell_type": "markdown",
   "metadata": {},
   "source": [
    "Select the model you wish to check results"
   ]
  },
  {
   "cell_type": "code",
   "execution_count": null,
   "metadata": {},
   "outputs": [],
   "source": [
    "trained_models = \"./trained_models\"\n",
    "\n",
    "selected_folder = \"\"\n",
    "\n",
    "@interact\n",
    "def show_files(files=next(os.walk(\"./trained_models\"))[1]):\n",
    "    global selected_folder\n",
    "    selected_folder = files\n",
    "    print(\"Selected folder:\", selected_folder)"
   ]
  },
  {
   "cell_type": "markdown",
   "metadata": {},
   "source": [
    "Fetch all the data from the folder that includes:\n",
    "\n",
    "    - Neural Network model\n",
    "    - The training history\n",
    "    - Confussion Matrix\n",
    "    - The classification Report"
   ]
  },
  {
   "cell_type": "code",
   "execution_count": null,
   "metadata": {},
   "outputs": [],
   "source": [
    "model = load_model(os.path.join(trained_models, selected_folder,\"unet.h5\"), compile=False) # Compile = False as we are only going to predict\n",
    "classification_report = pd.DataFrame(pd.read_pickle(os.path.join(trained_models, selected_folder, \"clf_results.pkl\")))\n",
    "history = pd.read_pickle(os.path.join(trained_models, selected_folder, \"history.pkl\"))\n",
    "cf_matrix = np.load(os.path.join(trained_models, selected_folder, \"conf_matrix.npy\"))"
   ]
  },
  {
   "cell_type": "markdown",
   "metadata": {},
   "source": [
    "## Learning Curves"
   ]
  },
  {
   "cell_type": "code",
   "execution_count": null,
   "metadata": {},
   "outputs": [],
   "source": [
    "lr_history = np.array(history[\"lr\"])\n",
    "lr_rate_change_epochs = []\n",
    "initial_value = lr_history[0]\n",
    "for i, value in enumerate(np.array(history[\"lr\"])):\n",
    "    if value != initial_value:\n",
    "        lr_rate_change_epochs.append(i)\n",
    "        initial_value = value\n",
    "\n",
    "\n",
    "fig, (ax1, ax2) = plt.subplots(1, 2, figsize=(10,4))\n",
    "\n",
    "for x in lr_rate_change_epochs:\n",
    "        ax1.axvline(x=x, linestyle=\"--\", color=\"gray\")\n",
    "ax1.plot(history[\"loss\"], label=\"training loss\")\n",
    "ax1.plot(history[\"val_loss\"], label=\"validation loss\")\n",
    "ax1.legend(loc=\"upper right\")\n",
    "\n",
    "for x in lr_rate_change_epochs:\n",
    "        ax2.axvline(x=x, linestyle=\"--\", color=\"gray\")\n",
    "ax2.plot(history[\"accuracy\"], label=\"training accuracy\")\n",
    "ax2.plot(history[\"val_accuracy\"], label=\"validation accuracy\")\n",
    "ax2.legend()\n",
    "\n",
    "plt.show()"
   ]
  },
  {
   "cell_type": "markdown",
   "metadata": {},
   "source": [
    "## Confussion Matrix"
   ]
  },
  {
   "cell_type": "code",
   "execution_count": null,
   "metadata": {},
   "outputs": [],
   "source": [
    "import glob\n",
    "import cv2\n",
    "import numpy as np\n",
    "import matplotlib.pyplot as plt\n",
    "import seaborn as sns\n",
    "\n",
    "# Assuming 'cf_matrix', 'history', and other variables are defined earlier\n",
    "\n",
    "mossaics_paths = glob.glob(\"./data/mossaics/training_mossaics/mask*.png\")\n",
    "\n",
    "filled = []\n",
    "for path in mossaics_paths:\n",
    "    img = cv2.imread(path, 0)\n",
    "    size = img.size\n",
    "    pixels_filled = np.sum(np.where(img != 0, 1, 0))\n",
    "    fill = np.round(pixels_filled / size, 2)\n",
    "    filled.append(fill)\n",
    "\n",
    "fig, (ax1, ax2) = plt.subplots(1, 2, figsize=(10, 4))\n",
    "\n",
    "cf_matrix_copy = np.copy(cf_matrix)\n",
    "cf_matrix_copy = np.round(cf_matrix_copy.astype('float') / cf_matrix_copy.sum(axis=1)[:, np.newaxis],2)\n",
    "np.fill_diagonal(cf_matrix_copy, 0)\n",
    "# Plot heatmap with mask and no color bar\n",
    "sns.heatmap(cf_matrix_copy, annot=True, fmt=\"g\", ax=ax1, cbar=False)  # annot=True to annotate cells, fmt=\"g\" to disable scientific notation\n",
    "\n",
    "ax1.set_xlabel(\"Predicted labels\")\n",
    "ax1.set_ylabel(\"True labels\")\n",
    "\n",
    "ax1.xaxis.set_ticklabels([\"Background\", \"Epithelium\", \"Blood Vessels\", \"Stroma\", \"Adipocytes\"], rotation=25)\n",
    "ax1.yaxis.set_ticklabels([\"Background\", \"Epithelium\", \"Blood Vessels\", \"Stroma\", \"Adipocytes\"], rotation=-45)\n",
    "\n",
    "ax2.plot(history[\"loss\"], label=\"Training Loss\")\n",
    "ax2.plot(history[\"val_loss\"], label=\"Validation Loss\")\n",
    "\n",
    "min_loss = min(history[\"val_loss\"])\n",
    "min_loss_idx = history[\"val_loss\"].index(min_loss)\n",
    "\n",
    "# Add vertical line\n",
    "ax2.axvline(x=min_loss_idx, color='red', linestyle='--', linewidth=1)\n",
    "\n",
    "# Add gray overlay after the vertical line\n",
    "ax2.axvspan(min_loss_idx, len(history[\"loss\"]), color='gray', alpha=0.3)\n",
    "\n",
    "# Add text \"Early stopping\" near the vertical line\n",
    "ax2.text(min_loss_idx + 1, max(history[\"val_loss\"]), 'Trigger Early \\nStopping', color='black', fontsize=10, verticalalignment='top')\n",
    "\n",
    "# Set x-axis limits between 0 and 80\n",
    "ax2.set_xlim(-1, len(history[\"loss\"]))\n",
    "\n",
    "ax2.legend()\n",
    "plt.show()\n"
   ]
  },
  {
   "cell_type": "markdown",
   "metadata": {},
   "source": [
    "## Classification Report"
   ]
  },
  {
   "cell_type": "code",
   "execution_count": null,
   "metadata": {},
   "outputs": [],
   "source": [
    "print(\"The model accuracy is: \" , np.round(classification_report.loc[\"precision\", \"accuracy\"]*100,2))"
   ]
  },
  {
   "cell_type": "code",
   "execution_count": null,
   "metadata": {},
   "outputs": [],
   "source": [
    "report = classification_report.copy()\n",
    "report.rename(columns={\"0\":\"Background\", \"1\":'epithelium', \"2\":'blood_vessels', \"3\":'stroma', \"4\":'adipocytes'}, inplace=True)\n",
    "report.loc[\"precision\"] = np.round(report.loc[\"precision\"]*100,2)\n",
    "report.loc[\"recall\"] = np.round(report.loc[\"recall\"]*100,2)\n",
    "report.loc[\"f1-score\"] = np.round(report.loc[\"f1-score\"]*100,2)\n",
    "report.drop(columns=[\"accuracy\"], inplace=True)\n",
    "report.loc[\"support\"] = report.loc[\"support\"].astype('int64')\n",
    "report.head()"
   ]
  },
  {
   "cell_type": "markdown",
   "metadata": {},
   "source": [
    "## Inspect Training Images"
   ]
  },
  {
   "cell_type": "code",
   "execution_count": null,
   "metadata": {},
   "outputs": [],
   "source": [
    "predictions_path = \"./data/predictions\"\n",
    "validation_path = \"./data/final_images/validation\"\n",
    "test_path = \"./data/final_images/test\""
   ]
  },
  {
   "cell_type": "code",
   "execution_count": null,
   "metadata": {},
   "outputs": [],
   "source": [
    "def check_mossaic_predictions(img_path):\n",
    "    \"\"\"\n",
    "    Given a path get its images and masks and show its predictions vs Ground Truths\n",
    "    \"\"\"\n",
    "\n",
    "    imgs = glob.glob(os.path.join(img_path, \"images/*.png\"))\n",
    "    masks = glob.glob(os.path.join(img_path, \"masks/*.png\"))\n",
    "\n",
    "    colors = [\"black\", \"green\", \"red\", \"blue\", \"yellow\"]\n",
    "    imin=0\n",
    "    imax=len(colors)\n",
    "    cmap = plt.cm.colors.ListedColormap(colors)\n",
    "\n",
    "    for i in range(len(imgs)):\n",
    "        img = cv2.imread(imgs[i])/255.0\n",
    "        mask = cv2.imread(masks[i],0)\n",
    "        prediction = np.argmax(model.predict(np.expand_dims(img, axis=0), verbose=0), axis=-1)[0]\n",
    "        fig, [ax1, ax2, ax3, ax4] = plt.subplots(1,4, figsize=(20,20))\n",
    "\n",
    "        ax1.set_title(\"Original Image\")\n",
    "        ax1.imshow(img)\n",
    "        ax2.set_title(\"Ground Truth Labels\")\n",
    "        ax2.imshow(mask, cmap=cmap, vmin=imin, vmax=imax,interpolation=\"nearest\")\n",
    "        ax3.set_title(\"Predicted Labels\")\n",
    "        ax3.imshow(prediction, cmap=cmap, vmin=imin, vmax=imax,interpolation=\"nearest\")\n",
    "        ax4.set_title(\"Pixels on error\")\n",
    "        ax4.imshow((np.where(prediction == mask, 0, 1)))\n",
    "\n",
    "        ax1.axis(\"off\")\n",
    "        ax2.axis(\"off\")\n",
    "        ax3.axis(\"off\")\n",
    "        ax4.axis(\"off\")\n",
    "\n",
    "        plt.show()"
   ]
  },
  {
   "cell_type": "code",
   "execution_count": null,
   "metadata": {},
   "outputs": [],
   "source": [
    "check_mossaic_predictions(validation_path)"
   ]
  },
  {
   "cell_type": "code",
   "execution_count": null,
   "metadata": {},
   "outputs": [],
   "source": [
    "check_mossaic_predictions(test_path)"
   ]
  },
  {
   "cell_type": "markdown",
   "metadata": {},
   "source": [
    "## Inspect real images"
   ]
  },
  {
   "cell_type": "markdown",
   "metadata": {},
   "source": [
    "Plot Large image for visualization"
   ]
  },
  {
   "cell_type": "code",
   "execution_count": null,
   "metadata": {},
   "outputs": [],
   "source": [
    "cleaned_prediction_path=\"./data/predictions_cleaned\"\n",
    "colors = [\"black\", \"green\", \"red\", \"blue\", \"yellow\"]\n",
    "imin=0\n",
    "imax=len(colors)\n",
    "cmap = plt.cm.colors.ListedColormap(colors)\n",
    "img_path = glob.glob(os.path.join(cleaned_prediction_path, \"*.png\"))[0]\n",
    "img = cv2.imread(img_path,0)\n",
    "fig, ax1 = plt.subplots(1,1,figsize=(30,30))\n",
    "ax1.imshow(img, cmap=cmap, vmin=imin, vmax=imax,interpolation=\"nearest\")\n",
    "ax1.axis(\"off\")\n",
    "plt.show()"
   ]
  },
  {
   "cell_type": "code",
   "execution_count": null,
   "metadata": {},
   "outputs": [],
   "source": [
    "def plot_prediction_stack(prediction_path=\"./data/predictions\" , cleaned_prediction_path=\"./data/predictions_cleaned\"):\n",
    "    colors = [\"black\", \"green\", \"red\", \"blue\", \"yellow\"]\n",
    "    imin=0\n",
    "    imax=len(colors)\n",
    "    cmap = plt.cm.colors.ListedColormap(colors)\n",
    "    \n",
    "    predictions = glob.glob(os.path.join(prediction_path, \"*.png\"))\n",
    "    predictions_cleaned = glob.glob(os.path.join(cleaned_prediction_path, \"*.png\"))\n",
    "\n",
    "    for i in range(len(predictions)):\n",
    "        fig, [ax1, ax2, ax3] = plt.subplots(1,3, figsize=(10,10))\n",
    "        prediction_img = cv2.imread(predictions[i], 0)\n",
    "        prediction_cleaned_img = cv2.imread(predictions_cleaned[i], 0)\n",
    "        ax1.set_title(\"Original Prediction\")\n",
    "        ax1.imshow(prediction_img, cmap=cmap, vmin=imin, vmax=imax,interpolation=\"nearest\" )\n",
    "        ax2.set_title(\"Cleaned Prediction\")\n",
    "        ax2.imshow(prediction_cleaned_img, cmap=cmap, vmin=imin, vmax=imax,interpolation=\"nearest\")\n",
    "        ax3.set_title(\"Cleaning Impact\")\n",
    "        ax3.imshow(np.where(prediction_img != prediction_cleaned_img, 1, 0))\n",
    "        ax1.axis(\"off\")\n",
    "        ax2.axis(\"off\")\n",
    "        ax3.axis(\"off\")\n",
    "        plt.show()\n"
   ]
  },
  {
   "cell_type": "code",
   "execution_count": null,
   "metadata": {},
   "outputs": [],
   "source": [
    "plot_prediction_stack()"
   ]
  }
 ],
 "metadata": {
  "kernelspec": {
   "display_name": "msc_thesis",
   "language": "python",
   "name": "python3"
  },
  "language_info": {
   "codemirror_mode": {
    "name": "ipython",
    "version": 3
   },
   "file_extension": ".py",
   "mimetype": "text/x-python",
   "name": "python",
   "nbconvert_exporter": "python",
   "pygments_lexer": "ipython3",
   "version": "3.10.13"
  }
 },
 "nbformat": 4,
 "nbformat_minor": 2
}
